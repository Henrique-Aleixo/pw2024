{
 "cells": [
  {
   "attachments": {},
   "cell_type": "markdown",
   "metadata": {},
   "source": [
    "**UNIVERSIDADE LUSÓFONA**\n",
    "\n",
    "# Programação Web -  Lab. 3: Python\n",
    "\n",
    "* Estes exercícios estão reidgidos em forma de tutorial para exercitar conceitos chave do Python associados com sets e dicionários. \n",
    "* Consulte os slides se tiver dúvidas. Estes contêm toda a matéria necessária para realizar estes exercícios.\n",
    "* Consulte os [video-tutoriais](https://educast.fccn.pt/vod/channels/1fzfn2fjbd?locale=en) curtos que explicam conceitos específicos do Python."
   ]
  },
  {
   "attachments": {},
   "cell_type": "markdown",
   "metadata": {
    "id": "cecSdetMJ8dx"
   },
   "source": [
    "# 1. Sets\n",
    "\n",
    "[sets: video-tutorial (5 min)](https://educast.fccn.pt/vod/clips/2h0d4s8ob4/desktop.mp4?locale=pt)\n",
    "\n",
    "No concurso Cody 2023 foi perguntado a cada grupo que concorreu qual a linguagem de programação que usou. Resultou na seguinte lista:"
   ]
  },
  {
   "cell_type": "code",
   "execution_count": 2,
   "metadata": {
    "id": "-Y8M2yLQJ8d3"
   },
   "outputs": [],
   "source": [
    "linguagens = ['Python', 'Kotlin', 'Java', 'Python', 'Python', 'Kotlin', 'Python', 'Java', \n",
    "              'Python', 'Python', 'C', 'Kotlin', 'Python', 'Java', 'Python', 'Python', \n",
    "              'C', 'Python', 'Java', 'Python', 'Python', 'Kotlin', 'Java', 'Kotlin',\n",
    "              'Python', 'Python', 'C', 'Kotlin', 'Python', 'Java', 'Python', 'Python', \n",
    "              'Kotlin', 'Python', 'Java', 'Python', 'Python', 'Kotlin', 'Python', 'Java', \n",
    "              'Python', 'Python', 'C', 'Kotlin', 'Python', 'Java', 'Python', 'Python', \n",
    "              'Kotlin', 'Python', 'Ruby', 'Python', 'Python', 'Kotlin', 'Python', 'Java', \n",
    "              'Python', 'Python', 'C', 'Kotlin', 'Python', 'Java', 'Python', 'Python', \n",
    "              'Kotlin', 'Python', 'Java', 'Python', 'Python', 'Kotlin', 'Python', 'Java', \n",
    "              'Python', 'Python', 'C', 'Kotlin', 'Python', 'Java', 'Python', 'Python', \n",
    "              'C', 'Python', 'Java', 'Python', 'Python', 'Kotlin', 'Java', 'Kotlin', \n",
    "              'Java', 'Python', 'Python', 'C', 'Java', 'Java']"
   ]
  },
  {
   "cell_type": "markdown",
   "metadata": {
    "id": "9dc7CSF9J8d5"
   },
   "source": [
    "**1**\n",
    " \n",
    "Calcule quantos grupos concorreram"
   ]
  },
  {
   "cell_type": "code",
   "execution_count": 4,
   "metadata": {
    "id": "086YZS7pJ8d6"
   },
   "outputs": [
    {
     "name": "stdout",
     "output_type": "stream",
     "text": [
      "5\n"
     ]
    }
   ],
   "source": [
    "print(len(set(linguagens)))"
   ]
  },
  {
   "cell_type": "markdown",
   "metadata": {
    "id": "9dc7CSF9J8d5"
   },
   "source": [
    "**2**\n",
    "\n",
    "Crie a variavel set_linguagens, que tem o set de linguagens indicadas pelos grupos\n",
    "\n",
    "Resultado esperado: `{'C', 'Java', 'Kotlin', 'Python', 'Ruby'}` \n",
    "\n",
    "Nota: o resultado pode estar noutra ordem pois um set é um conjunto onde os elementos não têm uma posição como nas sequências!"
   ]
  },
  {
   "cell_type": "code",
   "execution_count": 5,
   "metadata": {},
   "outputs": [
    {
     "name": "stdout",
     "output_type": "stream",
     "text": [
      "{'Ruby', 'Python', 'C', 'Kotlin', 'Java'}\n"
     ]
    }
   ],
   "source": [
    "print((set(linguagens)))"
   ]
  },
  {
   "attachments": {},
   "cell_type": "markdown",
   "metadata": {},
   "source": [
    "**3**\n",
    "\n",
    "Para saber a quantidade de grupos que usaram uma determinada linguagem, pode usar o método count: \n",
    "\n",
    "`linguagens.count('Python')`\n",
    "\n",
    "Esta instrução faz o seguinte: na lista `linguagens`, `conta` as ocorrencias do elemento `Python`.\n",
    "\n",
    "Experimente-a para ver quantos grupos usaram Python."
   ]
  },
  {
   "cell_type": "code",
   "execution_count": 6,
   "metadata": {},
   "outputs": [
    {
     "data": {
      "text/plain": [
       "49"
      ]
     },
     "execution_count": 6,
     "metadata": {},
     "output_type": "execute_result"
    }
   ],
   "source": [
    "linguagens.count(\"Python\")"
   ]
  },
  {
   "cell_type": "markdown",
   "metadata": {
    "id": "jZWABtadJ8d7"
   },
   "source": [
    "**4**\n",
    "\n",
    "Itere pelo set de linguagens, imprimindo o seu nome e a quantidade de ocorrencias  registadas na lista. Para tal, utilize o método `count()`. Exemplo do resultado esperado:\n",
    "\n",
    "```\n",
    "Kotlin: 17\n",
    "Python: 49\n",
    "Ruby: 1\n",
    "C: 8\n",
    "Java: 19\n",
    "```\n",
    "\n",
    "Nota: o resultado pode estar noutra ordem pois um set é um conjunto não ordenado, os elementos não têm uma posição!"
   ]
  },
  {
   "cell_type": "code",
   "execution_count": 10,
   "metadata": {
    "id": "086YZS7pJ8d6"
   },
   "outputs": [
    {
     "name": "stdout",
     "output_type": "stream",
     "text": [
      "Ruby: 1\n",
      "Python: 49\n",
      "C: 8\n",
      "Kotlin: 17\n",
      "Java: 19\n"
     ]
    }
   ],
   "source": [
    "for x in set(linguagens):\n",
    "    print(f\"{x}: {linguagens.count(x)}\")"
   ]
  },
  {
   "attachments": {},
   "cell_type": "markdown",
   "metadata": {
    "id": "jZWABtadJ8d7"
   },
   "source": [
    "**5**\n",
    "\n",
    "Itere pelo set de linguagens, imprimindo uma frase que indique a linguagem e a quantidade de grupos da lista que a usaram. Exemplo do resultado esperado:\n",
    "\n",
    "```\n",
    "17 grupos usaram Kotlin\n",
    "49 grupos usaram Python\n",
    "1 grupo usou Ruby\n",
    "8 grupos usaram C\n",
    "19 grupos usaram Java\n",
    "```\n",
    "\n",
    "Deverá garantir que a frase diferencia quando existe apenas um grupo (frase no singular), ou mais do que um grupo (plural)."
   ]
  },
  {
   "cell_type": "code",
   "execution_count": 11,
   "metadata": {
    "id": "aa1jzFccJ8d8",
    "outputId": "8efe71d6-0d7c-4146-b6cf-677132a73304"
   },
   "outputs": [
    {
     "name": "stdout",
     "output_type": "stream",
     "text": [
      "1 grupo usou Ruby\n",
      "49 grupos usaram Python\n",
      "8 grupos usaram C\n",
      "17 grupos usaram Kotlin\n",
      "19 grupos usaram Java\n"
     ]
    }
   ],
   "source": [
    "for x in set(linguagens):\n",
    "    if linguagens.count(x) > 1:\n",
    "        print(f\"{linguagens.count(x)} grupos usaram {x}\")\n",
    "    else:\n",
    "        print(f\"{linguagens.count(x)} grupo usou {x}\")"
   ]
  },
  {
   "attachments": {},
   "cell_type": "markdown",
   "metadata": {},
   "source": [
    "# Dicionários"
   ]
  },
  {
   "cell_type": "markdown",
   "metadata": {},
   "source": [
    "**6**\n",
    "\n",
    "Crie o dicionário `dic_linguagens` que contabiliza a quantidade de grupos que gosta de cada uma das linguagens\n",
    "\n",
    "Resultado esperado (ordem arbitrária):<br> \n",
    "`{'Python': 49, 'Kotlin': 17, 'Ruby': 1, 'C': 8, 'Java': 19}`"
   ]
  },
  {
   "cell_type": "code",
   "execution_count": 13,
   "metadata": {},
   "outputs": [
    {
     "name": "stdout",
     "output_type": "stream",
     "text": [
      "{'Ruby': 1, 'Python': 49, 'C': 8, 'Kotlin': 17, 'Java': 19}\n"
     ]
    }
   ],
   "source": [
    "dic_linguagens = {}\n",
    "for linguagem in set(linguagens):\n",
    "    dic_linguagens[linguagem] = linguagens.count(linguagem)\n",
    "\n",
    "print(dic_linguagens)"
   ]
  },
  {
   "cell_type": "markdown",
   "metadata": {},
   "source": [
    "**7**\n",
    "\n",
    "Crie o dicionario `dic_linguagens` recorrendo a uma compreensão"
   ]
  },
  {
   "cell_type": "code",
   "execution_count": 14,
   "metadata": {},
   "outputs": [
    {
     "name": "stdout",
     "output_type": "stream",
     "text": [
      "{'Ruby': 1, 'Python': 49, 'C': 8, 'Kotlin': 17, 'Java': 19}\n"
     ]
    }
   ],
   "source": [
    "dic_linguagens = {linguagem: linguagens.count(linguagem) for linguagem in set(linguagens)}\n",
    "print(dic_linguagens)"
   ]
  },
  {
   "cell_type": "markdown",
   "metadata": {},
   "source": [
    "**8**\n",
    "\n",
    "Imprima os items de dic_linguagens no seguinte formato:\n",
    "\n",
    "```\n",
    "Python: 49 likes 😀\n",
    "Kotlin: 17 likes 😀\n",
    "Ruby: 1 likes 😀\n",
    "C: 8 likes 😀\n",
    "Java: 19 likes 😀\n",
    "```\n",
    "\n",
    "Nota: para inserir um emoji, prima nas teclas Windows + . "
   ]
  },
  {
   "cell_type": "code",
   "execution_count": 15,
   "metadata": {},
   "outputs": [
    {
     "name": "stdout",
     "output_type": "stream",
     "text": [
      "Ruby: 1 likes 😀\n",
      "Python: 49 likes 😀\n",
      "C: 8 likes 😀\n",
      "Kotlin: 17 likes 😀\n",
      "Java: 19 likes 😀\n"
     ]
    }
   ],
   "source": [
    "for linguagem, count in dic_linguagens.items():\n",
    "    print(f\"{linguagem}: {count} likes 😀\")"
   ]
  },
  {
   "cell_type": "markdown",
   "metadata": {},
   "source": [
    "**9**\n",
    "\n",
    "Converta o dicionario numa lista, ordene-a decrescentemente pela quantidade de likes, e imprima-a no seguinte formato. Se for a linguagem Python, imprima uma piton 🐍 (copie este carater). senão, um smile:\n",
    "```\n",
    "49 grupos: Python 🐍\n",
    "19 grupos: Java 😀\n",
    "17 grupos: Kotlin 😀\n",
    " 8 grupos: C 😀\n",
    " 1 grupos: Ruby 😀\n",
    " ```"
   ]
  },
  {
   "cell_type": "code",
   "execution_count": 16,
   "metadata": {},
   "outputs": [
    {
     "name": "stdout",
     "output_type": "stream",
     "text": [
      "49 grupos: Python 🐍\n",
      "19 grupos: Java 😀\n",
      "17 grupos: Kotlin 😀\n",
      " 8 grupos: C 😀\n",
      " 1 grupos: Ruby 😀\n"
     ]
    }
   ],
   "source": [
    "dic_linguagens = {linguagem: linguagens.count(linguagem) for linguagem in set(linguagens)}\n",
    "\n",
    "# Converter para lista e ordenar decrescentemente\n",
    "lista_ordenada = sorted(dic_linguagens.items(), key=lambda x: x[1], reverse=True)\n",
    "\n",
    "for linguagem, count in lista_ordenada:\n",
    "    emoji = \"🐍\" if linguagem == \"Python\" else \"😀\"\n",
    "    print(f\"{count:2} grupos: {linguagem} {emoji}\")"
   ]
  },
  {
   "cell_type": "markdown",
   "metadata": {
    "id": "OoeFEOrRJ8eE"
   },
   "source": [
    "# Explorando um dicionário\n",
    "\n",
    "Considere o dicionário `programadores` em baixo que tem o inventário das linguagens de programação que vários programadores famosos inventaram e usaram"
   ]
  },
  {
   "cell_type": "code",
   "execution_count": 18,
   "metadata": {
    "id": "43AAAEGCJ8eE"
   },
   "outputs": [],
   "source": [
    "programadores = {\n",
    "    \"Guido van Rossum\": [\"Python\", \"JavaScript\"],\n",
    "    \"Dennis Ritchie\": [\"C\", \"Assembly\", \"B\"],\n",
    "    \"Bjarne Stroustrup\": [\"C++\", \"C\"],\n",
    "    \"Linus Torvalds\": [\"C\", \"Linux Kernel\", \"Git\", \"Python\"],\n",
    "    \"Larry Wall\": [\"Perl\", \"Raku\"],\n",
    "    \"James Gosling\": [\"Java\", \"Scala\"],\n",
    "    \"Ryan Dahl\": [\"JavaScript\", \"Node.js\", \"Rust\"],\n",
    "    \"Yukihiro Matsumoto\": [\"Ruby\", \"Elixir\"],\n",
    "    \"Rasmus Lerdorf\": [\"PHP\", \"Hack\"],\n",
    "    \"Anders Hejlsberg\": [\"C#\", \"TypeScript\"],\n",
    "    \"John McCarthy\": [\"Lisp\", \"Scheme\"],\n",
    "    \"Ken Thompson\": [\"C\", \"Unix\", \"Go\"],\n",
    "    \"Brian Kernighan\": [\"C\", \"Unix\"],\n",
    "    \"Rob Pike\": [\"Go\", \"Plan 9\"],\n",
    "    \"Grace Hopper\": [\"COBOL\"],\n",
    "    \"Ada Lovelace\": [\"Ada\"],\n",
    "    \"Donald Knuth\": [\"TeX\"],\n",
    "    \"Tim Berners-Lee\": [\"HTML\", \"HTTP\"],\n",
    "    \"Brendan Eich\": [\"JavaScript\"],\n",
    "    \"Richard Stallman\": [\"Emacs Lisp\", \"GNU Project\"],\n",
    "    \"Edsger W. Dijkstra\": [\"ALGOL\"],\n",
    "    \"Martin Odersky\": [\"Scala\"],\n",
    "    \"Mitchell Baker\": [\"JavaScript\", \"Rust\", \"WebAssembly\"]\n",
    "}"
   ]
  },
  {
   "cell_type": "markdown",
   "metadata": {
    "id": "BxfhxoNtJ8eE"
   },
   "source": [
    "**10**\n",
    "\n",
    "Considerando a variável `programadores`, escreva uma instrução que compute quantos programadores existem\n",
    "\n",
    "Resultado esperado: `Existem 23 programadores`"
   ]
  },
  {
   "cell_type": "code",
   "execution_count": 19,
   "metadata": {
    "id": "3WVGPM7zJ8eE"
   },
   "outputs": [
    {
     "name": "stdout",
     "output_type": "stream",
     "text": [
      "Existem 23 programadores\n"
     ]
    }
   ],
   "source": [
    "print(f\"Existem {len(programadores)} programadores\")"
   ]
  },
  {
   "cell_type": "markdown",
   "metadata": {
    "id": "fQe9KZvPJ8eE"
   },
   "source": [
    "**11**\n",
    "\n",
    "Considerando que o dicionário segue a estrutura anterior, imprima a informação de quantas linguagens cada programador domina, iterando com um ciclo for pelos items do dicionário, e usando uma string formatada."
   ]
  },
  {
   "cell_type": "code",
   "execution_count": 20,
   "metadata": {
    "id": "4FAlFfhkJ8eF"
   },
   "outputs": [
    {
     "name": "stdout",
     "output_type": "stream",
     "text": [
      "Guido van Rossum domina 2 linguagens\n",
      "Dennis Ritchie domina 3 linguagens\n",
      "Bjarne Stroustrup domina 2 linguagens\n",
      "Linus Torvalds domina 4 linguagens\n",
      "Larry Wall domina 2 linguagens\n",
      "James Gosling domina 2 linguagens\n",
      "Ryan Dahl domina 3 linguagens\n",
      "Yukihiro Matsumoto domina 2 linguagens\n",
      "Rasmus Lerdorf domina 2 linguagens\n",
      "Anders Hejlsberg domina 2 linguagens\n",
      "John McCarthy domina 2 linguagens\n",
      "Ken Thompson domina 3 linguagens\n",
      "Brian Kernighan domina 2 linguagens\n",
      "Rob Pike domina 2 linguagens\n",
      "Grace Hopper domina 1 linguagens\n",
      "Ada Lovelace domina 1 linguagens\n",
      "Donald Knuth domina 1 linguagens\n",
      "Tim Berners-Lee domina 2 linguagens\n",
      "Brendan Eich domina 1 linguagens\n",
      "Richard Stallman domina 2 linguagens\n",
      "Edsger W. Dijkstra domina 1 linguagens\n",
      "Martin Odersky domina 1 linguagens\n",
      "Mitchell Baker domina 3 linguagens\n"
     ]
    }
   ],
   "source": [
    "for nome, linguagens in programadores.items():\n",
    "    print(f\"{nome} domina {len(linguagens)} linguagens\")"
   ]
  },
  {
   "cell_type": "markdown",
   "metadata": {
    "id": "rKy_5teCJ8eF"
   },
   "source": [
    "**11**\n",
    "\n",
    "Iterando pelo dicionario, crie um set com as diferentes linguagens que os programadores conhecem.\n",
    "\n",
    "Exemplo de resultado: `Python, JavaScript, Java, Kotlin`"
   ]
  },
  {
   "cell_type": "code",
   "execution_count": 21,
   "metadata": {
    "id": "imwLcTrkJ8eF"
   },
   "outputs": [
    {
     "name": "stdout",
     "output_type": "stream",
     "text": [
      "{'Node.js', 'GNU Project', 'B', 'C++', 'Lisp', 'WebAssembly', 'TypeScript', 'Raku', 'Go', 'Ruby', 'Python', 'Perl', 'Scheme', 'Unix', 'C', 'Rust', 'Elixir', 'TeX', 'Hack', 'JavaScript', 'Assembly', 'Ada', 'Emacs Lisp', 'Scala', 'C#', 'ALGOL', 'Linux Kernel', 'HTTP', 'PHP', 'Plan 9', 'COBOL', 'HTML', 'Git', 'Java'}\n"
     ]
    }
   ],
   "source": [
    "linguagens_unicas = set()\n",
    "for nome, linguagens in programadores.items():\n",
    "    for linguagem in linguagens:\n",
    "        linguagens_unicas.add(linguagem)\n",
    "\n",
    "print(linguagens_unicas)"
   ]
  },
  {
   "cell_type": "markdown",
   "metadata": {
    "id": "cdztO1ILJ8eG"
   },
   "source": [
    "**12**\n",
    "\n",
    "crie uma instrução para alterar o dicionário `programadores`, adicionando a linguagem `Python` ao `James Gosling` e `Linus Torvalds`."
   ]
  },
  {
   "cell_type": "code",
   "execution_count": 22,
   "metadata": {
    "id": "F1CcgVAlJ8eG"
   },
   "outputs": [],
   "source": [
    "programadores[\"James Gosling\"].append(\"Python\")\n",
    "programadores[\"Linus Torvalds\"].append(\"Python\")"
   ]
  },
  {
   "cell_type": "markdown",
   "metadata": {
    "id": "yZ9oUqQ0J8eF"
   },
   "source": [
    "**13**\n",
    "\n",
    "crie um código que, iterando pelo dicionário `programadores`, imprime os nomes dos programadores que dominam `Python`. utilize o operador `in`"
   ]
  },
  {
   "cell_type": "code",
   "execution_count": 23,
   "metadata": {
    "id": "JrKy0yuFJ8eF"
   },
   "outputs": [
    {
     "name": "stdout",
     "output_type": "stream",
     "text": [
      "Guido van Rossum\n",
      "Linus Torvalds\n",
      "James Gosling\n"
     ]
    }
   ],
   "source": [
    "for nome, linguagens in programadores.items():\n",
    "    if \"Python\" in linguagens:\n",
    "        print(nome)"
   ]
  },
  {
   "cell_type": "markdown",
   "metadata": {},
   "source": [
    "**14**\n",
    "\n",
    "Crie um dicionário em que, para cada linguagem, guarda uma lista dos programadores que a dominam\n",
    "```\n",
    "{'Python': ['Manuel', 'Luis'],\n",
    " 'Kotlin': ['Manuel'],\n",
    " 'JavaScript': ['Maria', 'Luis'],\n",
    " 'Java': ['Maria', 'Luis']}\n",
    " ```"
   ]
  },
  {
   "cell_type": "code",
   "execution_count": 25,
   "metadata": {},
   "outputs": [
    {
     "name": "stdout",
     "output_type": "stream",
     "text": [
      "{'Python': ['Guido van Rossum', 'Linus Torvalds', 'Linus Torvalds', 'James Gosling'], 'JavaScript': ['Guido van Rossum', 'Ryan Dahl', 'Brendan Eich', 'Mitchell Baker'], 'C': ['Dennis Ritchie', 'Bjarne Stroustrup', 'Linus Torvalds', 'Ken Thompson', 'Brian Kernighan'], 'Assembly': ['Dennis Ritchie'], 'B': ['Dennis Ritchie'], 'C++': ['Bjarne Stroustrup'], 'Linux Kernel': ['Linus Torvalds'], 'Git': ['Linus Torvalds'], 'Perl': ['Larry Wall'], 'Raku': ['Larry Wall'], 'Java': ['James Gosling'], 'Scala': ['James Gosling', 'Martin Odersky'], 'Node.js': ['Ryan Dahl'], 'Rust': ['Ryan Dahl', 'Mitchell Baker'], 'Ruby': ['Yukihiro Matsumoto'], 'Elixir': ['Yukihiro Matsumoto'], 'PHP': ['Rasmus Lerdorf'], 'Hack': ['Rasmus Lerdorf'], 'C#': ['Anders Hejlsberg'], 'TypeScript': ['Anders Hejlsberg'], 'Lisp': ['John McCarthy'], 'Scheme': ['John McCarthy'], 'Unix': ['Ken Thompson', 'Brian Kernighan'], 'Go': ['Ken Thompson', 'Rob Pike'], 'Plan 9': ['Rob Pike'], 'COBOL': ['Grace Hopper'], 'Ada': ['Ada Lovelace'], 'TeX': ['Donald Knuth'], 'HTML': ['Tim Berners-Lee'], 'HTTP': ['Tim Berners-Lee'], 'Emacs Lisp': ['Richard Stallman'], 'GNU Project': ['Richard Stallman'], 'ALGOL': ['Edsger W. Dijkstra'], 'WebAssembly': ['Mitchell Baker']}\n"
     ]
    }
   ],
   "source": [
    "linguagem_programadores = {}\n",
    "for nome, linguagens in programadores.items():\n",
    "    for linguagem in linguagens:\n",
    "        if linguagem not in linguagem_programadores:\n",
    "            linguagem_programadores[linguagem] = []\n",
    "        linguagem_programadores[linguagem].append(nome)\n",
    "\n",
    "print(linguagem_programadores)"
   ]
  },
  {
   "cell_type": "markdown",
   "metadata": {},
   "source": [
    "**15**\n",
    "\n",
    "Identifique a linguagem mais popular por entre estes programadores famosos. Para tal, transforme o dicionario numa lista, ordene-o pelo tamanho da lista e imprima o primeiro elemento. \n",
    "\n",
    "Desafio dificuldade extra: faça-o numa só instrução, usando uma compreensao e a função sorted"
   ]
  },
  {
   "cell_type": "code",
   "execution_count": 26,
   "metadata": {},
   "outputs": [
    {
     "name": "stdout",
     "output_type": "stream",
     "text": [
      "('C', ['Dennis Ritchie', 'Bjarne Stroustrup', 'Linus Torvalds', 'Ken Thompson', 'Brian Kernighan'])\n"
     ]
    }
   ],
   "source": [
    "lista_ordenada = sorted(linguagem_programadores.items(), key=lambda x: len(x[1]), reverse=True)\n",
    "print(lista_ordenada[0])"
   ]
  },
  {
   "cell_type": "markdown",
   "metadata": {},
   "source": [
    "**16**\n",
    "\n",
    "Para cada uma das seguintes linguagens:\n",
    "* C\n",
    "* C++\n",
    "* Java\n",
    "* JavaScript\n",
    "* Python\n",
    "\n",
    "Crie um dicionario que guarde:\n",
    "* nome do criador\n",
    "* ano de criação\n",
    "* ranking em termos de tendência e utilização na industria\n",
    "* âmbito de utilização\n",
    "\n",
    "Consulte o ChatGPT para obter esta informação.\n",
    "\n",
    "Itere pelo dicionário para imprimir toda a informação que contém."
   ]
  },
  {
   "cell_type": "code",
   "execution_count": 27,
   "metadata": {},
   "outputs": [
    {
     "name": "stdout",
     "output_type": "stream",
     "text": [
      "\n",
      "--- C ---\n",
      "Criador: Dennis Ritchie\n",
      "Ano de criação: 1972\n",
      "Ranking atual: Top 10 (posição 8-9 na maioria dos rankings)\n",
      "Âmbito de utilização: Sistemas operacionais, compiladores, programação de sistemas, aplicações embebidas\n",
      "\n",
      "--- C++ ---\n",
      "Criador: Bjarne Stroustrup\n",
      "Ano de criação: 1985\n",
      "Ranking atual: Top 5 (posição 3-4 na maioria dos rankings)\n",
      "Âmbito de utilização: Jogos, aplicações de alto desempenho, sistemas em tempo real, programação de sistemas\n",
      "\n",
      "--- Java ---\n",
      "Criador: James Gosling\n",
      "Ano de criação: 1995\n",
      "Ranking atual: Top 3 (posição 2-3 na maioria dos rankings)\n",
      "Âmbito de utilização: Desenvolvimento web, aplicações empresariais, aplicações Android, big data\n",
      "\n",
      "--- JavaScript ---\n",
      "Criador: Brendan Eich\n",
      "Ano de criação: 1995\n",
      "Ranking atual: Top 3 (posição 1-2 na maioria dos rankings)\n",
      "Âmbito de utilização: Desenvolvimento web frontend/backend, aplicações móveis, desenvolvimento de jogos\n",
      "\n",
      "--- Python ---\n",
      "Criador: Guido van Rossum\n",
      "Ano de criação: 1991\n",
      "Ranking atual: Top 3 (posição 1-2 na maioria dos rankings)\n",
      "Âmbito de utilização: Ciência de dados, inteligência artificial, desenvolvimento web, automação, ensino\n"
     ]
    }
   ],
   "source": [
    "linguagens = {\n",
    "    \"C\": {\n",
    "        \"criador\": \"Dennis Ritchie\",\n",
    "        \"ano_criacao\": 1972,\n",
    "        \"ranking\": \"Top 10 (posição 8-9 na maioria dos rankings)\",\n",
    "        \"ambito_utilizacao\": \"Sistemas operacionais, compiladores, programação de sistemas, aplicações embebidas\"\n",
    "    },\n",
    "    \"C++\": {\n",
    "        \"criador\": \"Bjarne Stroustrup\", \n",
    "        \"ano_criacao\": 1985,\n",
    "        \"ranking\": \"Top 5 (posição 3-4 na maioria dos rankings)\",\n",
    "        \"ambito_utilizacao\": \"Jogos, aplicações de alto desempenho, sistemas em tempo real, programação de sistemas\"\n",
    "    },\n",
    "    \"Java\": {\n",
    "        \"criador\": \"James Gosling\",\n",
    "        \"ano_criacao\": 1995,\n",
    "        \"ranking\": \"Top 3 (posição 2-3 na maioria dos rankings)\",\n",
    "        \"ambito_utilizacao\": \"Desenvolvimento web, aplicações empresariais, aplicações Android, big data\"\n",
    "    },\n",
    "    \"JavaScript\": {\n",
    "        \"criador\": \"Brendan Eich\",\n",
    "        \"ano_criacao\": 1995,\n",
    "        \"ranking\": \"Top 3 (posição 1-2 na maioria dos rankings)\",\n",
    "        \"ambito_utilizacao\": \"Desenvolvimento web frontend/backend, aplicações móveis, desenvolvimento de jogos\"\n",
    "    },\n",
    "    \"Python\": {\n",
    "        \"criador\": \"Guido van Rossum\",\n",
    "        \"ano_criacao\": 1991,\n",
    "        \"ranking\": \"Top 3 (posição 1-2 na maioria dos rankings)\",\n",
    "        \"ambito_utilizacao\": \"Ciência de dados, inteligência artificial, desenvolvimento web, automação, ensino\"\n",
    "    }\n",
    "}\n",
    "\n",
    "# Iterar pelo dicionário e imprimir as informações\n",
    "for linguagem, info in linguagens.items():\n",
    "    print(f\"\\n--- {linguagem} ---\")\n",
    "    print(f\"Criador: {info['criador']}\")\n",
    "    print(f\"Ano de criação: {info['ano_criacao']}\")\n",
    "    print(f\"Ranking atual: {info['ranking']}\")\n",
    "    print(f\"Âmbito de utilização: {info['ambito_utilizacao']}\")"
   ]
  }
 ],
 "metadata": {
  "colab": {
   "name": "padc-exercicios-04.ipynb",
   "provenance": []
  },
  "kernelspec": {
   "display_name": "Python 3",
   "language": "python",
   "name": "python3"
  },
  "language_info": {
   "codemirror_mode": {
    "name": "ipython",
    "version": 3
   },
   "file_extension": ".py",
   "mimetype": "text/x-python",
   "name": "python",
   "nbconvert_exporter": "python",
   "pygments_lexer": "ipython3",
   "version": "3.12.1"
  }
 },
 "nbformat": 4,
 "nbformat_minor": 1
}
