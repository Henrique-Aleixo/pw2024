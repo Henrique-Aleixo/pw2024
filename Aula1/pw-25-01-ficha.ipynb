{
 "cells": [
  {
   "attachments": {
    "image.png": {
     "image/png": "[encoded data removed]"
    }
   },
   "cell_type": "markdown",
   "metadata": {},
   "source": [
    "UNIVERSIDADE LUSÓFONA, Programação Web, 2024-25\n",
    "# **Laboratório 1: Python 🐍**\n",
    "\n",
    "__________\n",
    "\n",
    "Um documento Jupyter Notebook tem extensão \".ipynb\". O VS Code é capaz de ler e executar estes ficheiros. É uma lista de células que podem conter código, texto (usando Markdown), expressões matemáticas, gráficos e texto enriquecido. É estruturado segundo o formato JSON. \n",
    "\n",
    "Tem dois tipos de células:\n",
    "* Markdown, para escrita de texto\n",
    "* Code, para escrita de código Python\n",
    "\n",
    "#### Célula do tipo *Markdown*\n",
    "\n",
    "* Permite escrever em texto formatado usando Markdown (tal como no GitHub). \n",
    "* Markadores base: \n",
    "    * `#` para título\n",
    "    * `##` subtitulo, \n",
    "    * ..., \n",
    "    * `*` para bullet.\n",
    "    * \\*com um asterisco o texto fica italico\\*\n",
    "    * \\*\\*com dois asteriscos o texto fica negrito\\*\\*\n",
    "\n",
    "* Para editar uma célula markdown, basta clicar duas vezes sobre o texto e verá o texto em formato Markdown (clique nesta!).\n",
    "\n",
    "\n",
    "#### Célula do tipo *Code*\n",
    "\n",
    "* Células contendo código Python. \n",
    "* O código duma célula é executado premindo Shift+Enter ou premindo a tecla Run.\n",
    "* Por vezes o Jupyter deixa de responder, devido a certo tipo de erros. Para recuperar, reinicie o kernel premindo em ![image.png](attachment:image.png)\n",
    "* pode executar como se fosse um script, sem imprimir\n",
    "\n",
    "Se tiver dúvidas, consulte:\n",
    "\n",
    "* slides da aula, que têm toda a matéria necessária para a resolução desta ficha\n",
    "* [video-tutoriais](https://educast.fccn.pt/vod/channels/1fzfn2fjbd?locale=en) curtos sobre matérias específicas.\n",
    "\n",
    "_______________"
   ]
  },
  {
   "cell_type": "markdown",
   "metadata": {},
   "source": [
    "# 0. Strings\n",
    "\n",
    "Em Python as strings são indexáveis"
   ]
  },
  {
   "cell_type": "code",
   "execution_count": 1,
   "metadata": {},
   "outputs": [
    {
     "name": "stdout",
     "output_type": "stream",
     "text": [
      "a\n",
      "b\n",
      "o\n"
     ]
    }
   ],
   "source": [
    "palavra = \"abraço\"\n",
    "\n",
    "print(palavra[0])\n",
    "print(palavra[1])\n",
    "print(palavra[-1])"
   ]
  },
  {
   "cell_type": "markdown",
   "metadata": {},
   "source": [
    "Escrevq um programa que pede ao utilizador para inserir uma frase, usando a função `input`. Imprima o primeiro, segundo, ultimo e penúltimo carater da frase usando indexação."
   ]
  },
  {
   "cell_type": "code",
   "execution_count": 3,
   "metadata": {},
   "outputs": [
    {
     "name": "stdout",
     "output_type": "stream",
     "text": [
      "Primeiro carater: b\n",
      "Segundo carater: o\n",
      "Penúltimo carater: i\n",
      "Último carater: a\n"
     ]
    }
   ],
   "source": [
    "frase = input(\"Insere uma frase\")\n",
    "\n",
    "print(\"Primeiro carater:\", frase[0])\n",
    "print(\"Segundo carater:\", frase[1])\n",
    "print(\"Penúltimo carater:\", frase[-2])\n",
    "print(\"Último carater:\", frase[-1])"
   ]
  },
  {
   "cell_type": "markdown",
   "metadata": {},
   "source": [
    "# 1. Slices\n",
    "\n",
    "O fatiamento de strings (slices) permite criar uma substring com base numa string s:\n",
    "* s[x:y] cópia de x (inclusive) até y (exclusive)\n",
    "* s[x:] cópia a partir de x (inclusive)\n",
    "* s[:y] cópia até y (exclusive)\n",
    "* s[:] cópia total de s\n",
    "* s[x:y:n] cópia de x (inclusive) até y, de n em n itens (incremento). Se n for negativo, o percurso faz-se do fim para o início.\n",
    "\n",
    "Use slices para extrair a palavra \"viva\" das variáveis codigo:\n"
   ]
  },
  {
   "cell_type": "code",
   "execution_count": 8,
   "metadata": {},
   "outputs": [
    {
     "name": "stdout",
     "output_type": "stream",
     "text": [
      "viva\n"
     ]
    }
   ],
   "source": [
    "codigo = \"viva$$$$$$$\"\n",
    "\n",
    "palavra = codigo[:4]\n",
    "\n",
    "print(palavra)\n"
   ]
  },
  {
   "cell_type": "code",
   "execution_count": null,
   "metadata": {},
   "outputs": [
    {
     "name": "stdout",
     "output_type": "stream",
     "text": [
      "va\n"
     ]
    }
   ],
   "source": [
    "codigo = \"$$viva\"\n",
    "palavra = codigo[2:]\n",
    "print(palavra)"
   ]
  },
  {
   "cell_type": "code",
   "execution_count": null,
   "metadata": {},
   "outputs": [
    {
     "name": "stdout",
     "output_type": "stream",
     "text": [
      "$$$\n"
     ]
    }
   ],
   "source": [
    "codigo = \"$$$viva$$$\"\n",
    "palavra = codigo[3:7]\n",
    "print(palavra)"
   ]
  },
  {
   "cell_type": "code",
   "execution_count": 16,
   "metadata": {},
   "outputs": [
    {
     "name": "stdout",
     "output_type": "stream",
     "text": [
      "viva\n"
     ]
    }
   ],
   "source": [
    "# use índices negativos\n",
    "\n",
    "codigo = \"$$$$$$$$$$$$$$$$$$$$$$$$$$$$$$$$$$$$$$$$$$$$$$$$$$$$$$$viva\"\n",
    "palavra = codigo[-4:]\n",
    "print(palavra)"
   ]
  },
  {
   "cell_type": "code",
   "execution_count": 17,
   "metadata": {},
   "outputs": [
    {
     "name": "stdout",
     "output_type": "stream",
     "text": [
      "viva\n"
     ]
    }
   ],
   "source": [
    "# use índices negativos\n",
    "\n",
    "codigo = \"$$$$$$$$$$$$$$$$$$$$$$$$$$$$$$$$$$$$$$$$$$$$$$$$$$$$$$$viva$$\"\n",
    "palavra = codigo[-6:-2]\n",
    "print(palavra)"
   ]
  },
  {
   "cell_type": "code",
   "execution_count": 18,
   "metadata": {},
   "outputs": [
    {
     "name": "stdout",
     "output_type": "stream",
     "text": [
      "viva\n"
     ]
    }
   ],
   "source": [
    "codigo = \"v$i$v$a$\"\n",
    "palavra = codigo[::2]\n",
    "print(palavra)"
   ]
  },
  {
   "cell_type": "code",
   "execution_count": 19,
   "metadata": {},
   "outputs": [
    {
     "name": "stdout",
     "output_type": "stream",
     "text": [
      "viva\n"
     ]
    }
   ],
   "source": [
    "codigo = \"$$v##i##v##a\"\n",
    "palavra = codigo[2::3]\n",
    "print(palavra)"
   ]
  },
  {
   "cell_type": "code",
   "execution_count": 20,
   "metadata": {},
   "outputs": [
    {
     "name": "stdout",
     "output_type": "stream",
     "text": [
      "viva\n"
     ]
    }
   ],
   "source": [
    "# use incremento negativo\n",
    "codigo = \"aviv\"\n",
    "palavra = codigo[::-1]\n",
    "print(palavra)"
   ]
  },
  {
   "cell_type": "code",
   "execution_count": 21,
   "metadata": {},
   "outputs": [
    {
     "name": "stdout",
     "output_type": "stream",
     "text": [
      "viva\n"
     ]
    }
   ],
   "source": [
    "# use incremento negativo\n",
    "codigo = \"$$$$aviv$$$\"\n",
    "palavra = codigo[7:3:-1]\n",
    "print(palavra)"
   ]
  },
  {
   "cell_type": "code",
   "execution_count": 24,
   "metadata": {},
   "outputs": [
    {
     "name": "stdout",
     "output_type": "stream",
     "text": [
      "viva\n"
     ]
    }
   ],
   "source": [
    "# use incremento negativo\n",
    "codigo = \"$$$$a-v-i-v$$$\"\n",
    "palavra = codigo[10:3:-1]\n",
    "palavra = palavra[::2]\n",
    "print(palavra)"
   ]
  },
  {
   "cell_type": "markdown",
   "metadata": {},
   "source": [
    "# 2. Concatenação e repetição\n",
    "\n",
    "Considere os operadores sobre strings de concatenação `+` e repetição `*`:\n",
    "```Python\n",
    ">>> 'Py' + 'thon'   # concatenação\n",
    "'Python'\n",
    ">>> 'ah' * 3        # repetição\n",
    "'ahahaha'\n",
    "```\n",
    "\n",
    "Defina, usando operadores sobre strings de concatenação `+` e repetição `*`, uma string com a seguinte onomatopeia: \n",
    "\n",
    "```\n",
    "buuuuuuummmmm\n",
    "```\n"
   ]
  },
  {
   "cell_type": "markdown",
   "metadata": {},
   "source": [
    "\n",
    "\n"
   ]
  },
  {
   "cell_type": "markdown",
   "metadata": {},
   "source": [
    "# Funções `input`, `eval` e `print`\n",
    "\n",
    "analise e execute as seguintes células de código"
   ]
  },
  {
   "cell_type": "code",
   "execution_count": 25,
   "metadata": {},
   "outputs": [
    {
     "name": "stdout",
     "output_type": "stream",
     "text": [
      "henrique <class 'str'>\n"
     ]
    }
   ],
   "source": [
    "nome = input(\"Insira o seu nome: \") # input retorna numa string os carateres digitados\n",
    "\n",
    "print(nome, type(nome))"
   ]
  },
  {
   "cell_type": "code",
   "execution_count": 26,
   "metadata": {},
   "outputs": [
    {
     "name": "stdout",
     "output_type": "stream",
     "text": [
      "2003 <class 'int'>\n"
     ]
    }
   ],
   "source": [
    "# eval() avalia aritméticamente uma string e converte o resultado num número.\n",
    "\n",
    "ano_nascimento = eval(input(\"Insira o seu ano de nascimento: \"))\n",
    "\n",
    "print(ano_nascimento, type(ano_nascimento))"
   ]
  },
  {
   "cell_type": "code",
   "execution_count": 27,
   "metadata": {},
   "outputs": [
    {
     "data": {
      "text/plain": [
       "8"
      ]
     },
     "execution_count": 27,
     "metadata": {},
     "output_type": "execute_result"
    }
   ],
   "source": [
    "expressao = '2**3' # str com expressão aritmética. '**' é o operador potência, 2**3 = 2*2*2\n",
    "\n",
    "eval(expressao)   # eval() vai avaliar matemáticamente a expressão e retorna o resultado"
   ]
  },
  {
   "cell_type": "code",
   "execution_count": 28,
   "metadata": {},
   "outputs": [
    {
     "name": "stdout",
     "output_type": "stream",
     "text": [
      "Olá henrique! Este ano celebras 22\n"
     ]
    }
   ],
   "source": [
    "# uma formatted string é uma string precedida pela letra f\n",
    "# permite incluir uma expressão aritmética entre {}\n",
    "\n",
    "frase = f\"Olá {nome}! Este ano celebras {2025 - ano_nascimento}\"\n",
    "\n",
    "print(frase)"
   ]
  },
  {
   "cell_type": "markdown",
   "metadata": {},
   "source": [
    "Crie um programa que pede uma expressão aritmetica e imprime o resultado da operação\n",
    "\n",
    "Exemplo de interação:\n",
    "\n",
    "```\n",
    "SUPER CALCULADORA 🤓\n",
    "Insira uma expressão aritmética: 23 + 4\n",
    "23 + 4 = 27\n",
    "```"
   ]
  },
  {
   "cell_type": "code",
   "execution_count": 30,
   "metadata": {},
   "outputs": [
    {
     "name": "stdout",
     "output_type": "stream",
     "text": [
      "7 * 7  =  49\n"
     ]
    }
   ],
   "source": [
    "soma = input(\"Insira: \")\n",
    "\n",
    "print(soma ,\" = \", eval(soma))"
   ]
  },
  {
   "cell_type": "markdown",
   "metadata": {},
   "source": [
    "## Formatted Strings\n",
    "\n",
    "As strings formatadas são strings precedidas com a letra f, e permitem criar strings que integram variáveis e expressões. Exemplo:"
   ]
  },
  {
   "cell_type": "code",
   "execution_count": 31,
   "metadata": {},
   "outputs": [
    {
     "name": "stdout",
     "output_type": "stream",
     "text": [
      "O Mario celebra este ano 25 anos\n"
     ]
    }
   ],
   "source": [
    "nome = \"Mario\"\n",
    "ano_nascimento = 2000\n",
    "\n",
    "frase = f\"O {nome} celebra este ano {2025 - ano_nascimento} anos\"\n",
    "print(frase)"
   ]
  },
  {
   "cell_type": "markdown",
   "metadata": {},
   "source": [
    "Crie as frases em baixo usando as variáveis indicando e recorrendo a formatted strings. Relembre que as strings usam codificação UTF-8, pelo que pode usar carateres com acentos e até emojis. \n",
    "* Pode inserir emojis premindo na tecla Windows + \".\". \n",
    "* Alternativamente, pode pesquisar emojis aqui https://getemoji.com/, copiar um (selecione-o com o rato e prima Ctrl+V) e pode depois inseri-los numa string Python (Ctrl+V)."
   ]
  },
  {
   "cell_type": "code",
   "execution_count": 34,
   "metadata": {},
   "outputs": [
    {
     "name": "stdout",
     "output_type": "stream",
     "text": [
      "A Maria comprou 2 kg de 🍏 e pagou 3.96\n"
     ]
    }
   ],
   "source": [
    "nome = \"Maria\"\n",
    "fruto = \"🍏\"\n",
    "peso = 2\n",
    "preco_kilo = 1.98\n",
    "\n",
    "frase = f\"A {nome} comprou {peso} kg de {fruto} e pagou {peso * preco_kilo}\"\n",
    "print(frase)\n",
    "\n",
    "\n",
    "# frase que deverá aparecer: A Maria comprou 2 kg de 🍏 e pagou 3.86€\""
   ]
  },
  {
   "cell_type": "code",
   "execution_count": 36,
   "metadata": {},
   "outputs": [
    {
     "name": "stdout",
     "output_type": "stream",
     "text": [
      "O Miguel joga 2 vezes por semana ⚽\n"
     ]
    }
   ],
   "source": [
    "nome = \"Miguel\"\n",
    "desporto =   \"⚽\"   # escolha um emoji a seu gosto\n",
    "regularidade_semanal = 2\n",
    "print(f\"O {nome} joga {regularidade_semanal} vezes por semana {desporto}\")\n",
    "# frase final: O Miguel joga 2 vezes por semana tenis\""
   ]
  },
  {
   "cell_type": "code",
   "execution_count": 37,
   "metadata": {},
   "outputs": [
    {
     "name": "stdout",
     "output_type": "stream",
     "text": [
      "🐔🥚🤔🔬💥🦖🏃‍♂️🛸👽🍳😋\n"
     ]
    }
   ],
   "source": [
    "# Crie uma frase divertida, só com emojis, que conte uma história!\n",
    "emojis = \"🐔🥚🤔🔬💥🦖🏃‍♂️🛸👽🍳😋\"\n",
    "print(emojis)\n",
    "\n"
   ]
  },
  {
   "cell_type": "markdown",
   "metadata": {},
   "source": [
    "# 3. Billboard"
   ]
  },
  {
   "cell_type": "markdown",
   "metadata": {},
   "source": [
    "Faça este exercício em grupos de dois. Este exercício foi a primeira parte do projeto de LP1 de 2021. Verão que é mais simples em Python do que em C.\n",
    "\n",
    "Crie um programa que recebe uma string `frase` e um dígito `n`. \n",
    "Deverá aplicar uma deslocação de n caracteres para a direita (se n>0) ou para a esquerda (se n<0) e em seguida apresentar o resultado na consola. Uma deslocação de n caracteres consiste em mover os caracteres todos de uma string para as a posições contíguas e em que os últimos caracteres da string passam para o início.\n",
    "\n",
    "Exemplo:\n",
    "\n",
    "```\n",
    "Introduza uma sequencia de carateres: abcdefghi\n",
    "Introduza um inteiro: 3\n",
    "Resultado de deslocação de 3 carateres: ghiabcdef\n",
    "```\n",
    "\n",
    "Outro exemplo:\n",
    "\n",
    "```\n",
    "Introduza uma sequencia de carateres: abcdefghi\n",
    "Introduza um inteiro: -2\n",
    "Resultado de deslocação de -2 carateres: cdefghiab\n",
    "```\n",
    "\n",
    "Sugestões:\n",
    "* utilize slices e concatenação de strings.\n",
    "\n",
    "Extra:\n",
    "* tome atenção ao caso de o número ser maior que o comprimento da string. Nesse caso deverá usar como deslocação `n % len(frase)`, pois a rotação de `len(frase)` carateres é a própria frase."
   ]
  },
  {
   "cell_type": "code",
   "execution_count": null,
   "metadata": {},
   "outputs": [
    {
     "name": "stdout",
     "output_type": "stream",
     "text": [
      "Resultado de deslocação de 7 carateres: cdefghiab\n"
     ]
    }
   ],
   "source": [
    "sequencia = input(\"Introduza uma sequencia de carateres: \")\n",
    "deslocacao = int(input(\"Introduza um inteiro: \"))\n",
    "\n",
    "if len(sequencia) > 0:\n",
    "    deslocacao = deslocacao % len(sequencia)\n",
    "    \n",
    "    resultado = sequencia[-deslocacao:] + sequencia[:-deslocacao]\n",
    "    \n",
    "    print(f\"Resultado de deslocação de {deslocacao} carateres: {resultado}\")\n",
    "else:\n",
    "    print(\"String vazia!\")\n",
    "\n",
    "\n"
   ]
  },
  {
   "attachments": {},
   "cell_type": "markdown",
   "metadata": {},
   "source": [
    "# 4. Frase\n",
    "\n",
    "Peça ao utilizador para inserir uma frase e um carater. Indique quantas vezes esse carater ocorre na frase.\n",
    "\n",
    "Sugestões: \n",
    "* Utilize o método `count`.\n",
    "* Numa string, pode imprimir aspas se definir a f-string com com plicas ': `print(f'A frase \"{frase}\" tem {soma} carateres')`\n",
    "\n",
    "Exemplo de funcionamento:\n",
    "\n",
    "```\n",
    "Insira uma frase: Rega as tuas plantas. Ama as tuas rosas\n",
    "Insira uma letra: 'a'\n",
    "Na frase \"Rega as tuas plantas. Ama as tuas rosas\" a letra \"a\" ocorre 10 vezes\n",
    "```"
   ]
  },
  {
   "cell_type": "code",
   "execution_count": 41,
   "metadata": {
    "scrolled": true
   },
   "outputs": [
    {
     "name": "stdout",
     "output_type": "stream",
     "text": [
      "Na frase \"testar testar testar\" a letra \"a\" ocorre 3 vezes\n"
     ]
    }
   ],
   "source": [
    "frase = input(\"Insira uma frase: \")\n",
    "carater = input(\"Insira uma letra: \")\n",
    "\n",
    "contador = frase.count(carater)\n",
    "\n",
    "print(f'Na frase \"{frase}\" a letra \"{carater}\" ocorre {contador} vezes')\n",
    "\n",
    "\n"
   ]
  },
  {
   "cell_type": "code",
   "execution_count": null,
   "metadata": {},
   "outputs": [],
   "source": []
  },
  {
   "cell_type": "markdown",
   "metadata": {},
   "source": [
    "# 5. Métodos das Strings\n",
    "\n",
    "* Em Python, cada tipo de variável é uma classe, e tem um conjunto de métodos (funções) disponíveis. \n",
    "* Com a instrução `dir(str)` pode listar os métodos existentes do tipo string.\n",
    "* `help(str.title)` permite inquirir sobre o seu funcionamento dum método (neste caso, o método `title`)."
   ]
  },
  {
   "cell_type": "markdown",
   "metadata": {},
   "source": [
    "Para os métodos em baixo indicados, veja a descrição com a função help e escreva um exemplo de utilização para o experimentar"
   ]
  },
  {
   "cell_type": "code",
   "execution_count": null,
   "metadata": {},
   "outputs": [
    {
     "name": "stdout",
     "output_type": "stream",
     "text": [
      "Help on method_descriptor:\n",
      "\n",
      "title(self, /)\n",
      "    Return a version of the string where each word is titlecased.\n",
      "    \n",
      "    More specifically, words start with uppercased characters and all remaining\n",
      "    cased characters have lower case.\n",
      "\n"
     ]
    }
   ],
   "source": [
    "help(str.title)"
   ]
  },
  {
   "cell_type": "code",
   "execution_count": null,
   "metadata": {},
   "outputs": [
    {
     "data": {
      "text/plain": [
       "'Exercícios Introdutorios Ao Python'"
      ]
     },
     "metadata": {},
     "output_type": "display_data"
    }
   ],
   "source": [
    "# Este já está resolvido, para ver como se pretende que faça 😉\n",
    "\n",
    "# title() \n",
    "frase = \"exercícios introdutorios ao python\"\n",
    "\n",
    "frase.title() # será impresso em baixo sem precisar de print"
   ]
  },
  {
   "cell_type": "code",
   "execution_count": 42,
   "metadata": {},
   "outputs": [
    {
     "data": {
      "text/plain": [
       "'Exercícios introdutorios ao python'"
      ]
     },
     "execution_count": 42,
     "metadata": {},
     "output_type": "execute_result"
    }
   ],
   "source": [
    "#capitalize()\n",
    "frase = \"exercícios introdutorios ao python\"\n",
    "\n",
    "frase.capitalize() \n"
   ]
  },
  {
   "cell_type": "code",
   "execution_count": 43,
   "metadata": {},
   "outputs": [
    {
     "data": {
      "text/plain": [
       "['exercícios', 'python']"
      ]
     },
     "execution_count": 43,
     "metadata": {},
     "output_type": "execute_result"
    }
   ],
   "source": [
    "#split()\n",
    "frase = \"exercícios,python\"\n",
    "\n",
    "frase.split(\",\") \n"
   ]
  },
  {
   "cell_type": "code",
   "execution_count": 44,
   "metadata": {},
   "outputs": [
    {
     "data": {
      "text/plain": [
       "'exercícios,python'"
      ]
     },
     "execution_count": 44,
     "metadata": {},
     "output_type": "execute_result"
    }
   ],
   "source": [
    "#join()\n",
    "frase = (\"exercícios\",\"python\")\n",
    "\n",
    "\",\".join(frase) \n"
   ]
  },
  {
   "cell_type": "code",
   "execution_count": 45,
   "metadata": {},
   "outputs": [
    {
     "data": {
      "text/plain": [
       "'@br@c@d@br@'"
      ]
     },
     "execution_count": 45,
     "metadata": {},
     "output_type": "execute_result"
    }
   ],
   "source": [
    "#replace() \n",
    "palavra = \"abracadabra\"  # substitua 'a' por '@' 😉\n",
    "palavra.replace(\"a\", \"@\")\n"
   ]
  },
  {
   "cell_type": "code",
   "execution_count": 46,
   "metadata": {},
   "outputs": [
    {
     "data": {
      "text/plain": [
       "5"
      ]
     },
     "execution_count": 46,
     "metadata": {},
     "output_type": "execute_result"
    }
   ],
   "source": [
    "#count\n",
    "\n",
    "palavra = \"abracadabra\"  # conte a frequência do carater 'a' em palavra 😉\n",
    "palavra.count(\"a\")"
   ]
  },
  {
   "cell_type": "code",
   "execution_count": 47,
   "metadata": {},
   "outputs": [
    {
     "data": {
      "text/plain": [
       "2"
      ]
     },
     "execution_count": 47,
     "metadata": {},
     "output_type": "execute_result"
    }
   ],
   "source": [
    "#find\n",
    "\n",
    "palavra = \"abracadabra\"  # procure em que posição está a primeira letra 'r' 🧐. Se não existir retorna -1\n",
    "palavra.find(\"r\")"
   ]
  },
  {
   "cell_type": "code",
   "execution_count": 49,
   "metadata": {},
   "outputs": [
    {
     "data": {
      "text/plain": [
       "False"
      ]
     },
     "execution_count": 49,
     "metadata": {},
     "output_type": "execute_result"
    }
   ],
   "source": [
    "#isalnum     retorna True se só tiver carateres alfabeticos (letras) ou digitos. \n",
    "           # Se retornar False tem carateres especiais 🤓. bom para passwords fortes 💪\n",
    "frase = input(\"Insere: \")\n",
    "\n",
    "frase.isalnum()\n"
   ]
  },
  {
   "cell_type": "code",
   "execution_count": 50,
   "metadata": {},
   "outputs": [
    {
     "data": {
      "text/plain": [
       "True"
      ]
     },
     "execution_count": 50,
     "metadata": {},
     "output_type": "execute_result"
    }
   ],
   "source": [
    "#isalpha\n",
    "frase = input(\"Insere: \")\n",
    "\n",
    "frase.isalpha()\n"
   ]
  },
  {
   "cell_type": "code",
   "execution_count": 51,
   "metadata": {},
   "outputs": [
    {
     "data": {
      "text/plain": [
       "False"
      ]
     },
     "execution_count": 51,
     "metadata": {},
     "output_type": "execute_result"
    }
   ],
   "source": [
    "#isdigit\n",
    "frase = input(\"Insere: \")\n",
    "\n",
    "frase.isdigit()\n"
   ]
  },
  {
   "cell_type": "code",
   "execution_count": 52,
   "metadata": {},
   "outputs": [
    {
     "data": {
      "text/plain": [
       "3"
      ]
     },
     "execution_count": 52,
     "metadata": {},
     "output_type": "execute_result"
    }
   ],
   "source": [
    "# função len()   - retorna numero de carateres. Usada em listas e tuplos também para ver a quantidade de elementos\n",
    "\n",
    "len('ola')"
   ]
  },
  {
   "cell_type": "markdown",
   "metadata": {},
   "source": [
    "# 6. Construção automática de email a partir do nome\n",
    "\n",
    "Escreva um programa que pede ao utilizador para inserir um nome completo, com vários apelidos. Construa e imprima um email. Exemplo:\n",
    "\n",
    "```\n",
    "Insira um nome completo: Manuel Castro Silva\n",
    "Email: manuel.castro.silva@ulusofona.pt\n",
    "```\n",
    "\n",
    "Para tal recorra aos métodos das strings tais como `replace`, `lower` e operador da concatenação `+`."
   ]
  },
  {
   "cell_type": "code",
   "execution_count": 53,
   "metadata": {},
   "outputs": [
    {
     "name": "stdout",
     "output_type": "stream",
     "text": [
      "Email: henrique.aleixo@ulusofona.pt\n"
     ]
    }
   ],
   "source": [
    "nome_completo = input(\"Insira um nome completo: \")\n",
    "\n",
    "email = nome_completo.lower().replace(\" \", \".\") + \"@ulusofona.pt\"\n",
    "\n",
    "print(f\"Email: {email}\")"
   ]
  }
 ],
 "metadata": {
  "kernelspec": {
   "display_name": "Python 3",
   "language": "python",
   "name": "python3"
  },
  "language_info": {
   "codemirror_mode": {
    "name": "ipython",
    "version": 3
   },
   "file_extension": ".py",
   "mimetype": "text/x-python",
   "name": "python",
   "nbconvert_exporter": "python",
   "pygments_lexer": "ipython3",
   "version": "3.12.1"
  }
 },
 "nbformat": 4,
 "nbformat_minor": 4
}
